{
 "cells": [
  {
   "cell_type": "markdown",
   "id": "25036e2b",
   "metadata": {},
   "source": [
    "# Data Science Tools and Ecosystem"
   ]
  },
  {
   "cell_type": "markdown",
   "id": "928f8854",
   "metadata": {},
   "source": [
    "In this notebook, Data Science Tools and Ecosystem are summarized. "
   ]
  },
  {
   "cell_type": "markdown",
   "id": "8ebd281d",
   "metadata": {},
   "source": [
    "**Objectives:**\n",
    "* Describe the relevant features of open-source tools.\n",
    "* Review languages such as Java, Scala, C++, JavaScript, and Julia.\n",
    "* Define REST API in relation to request and response."
   ]
  },
  {
   "cell_type": "markdown",
   "id": "a7579b73",
   "metadata": {},
   "source": [
    "Some of the popular languages that Data Scientists use are:\n",
    "1. SQL \n",
    "2. R\n",
    "3. Python "
   ]
  },
  {
   "cell_type": "markdown",
   "id": "7f7a5744",
   "metadata": {},
   "source": [
    "Some ofthe commonly used libraries used by Data Scientists include:\n",
    "1. Pandas\n",
    "2. Matplotlib\n",
    "3. Numpy"
   ]
  },
  {
   "cell_type": "markdown",
   "id": "41bab426",
   "metadata": {},
   "source": [
    "| Data Science Tools |\n",
    "| ------------------ |\n",
    "| Jupyter Notebook   |\n",
    "| RStudio            |\n",
    "| PyCharm            |"
   ]
  },
  {
   "cell_type": "markdown",
   "id": "a6d0219b",
   "metadata": {},
   "source": [
    "### Arithmetic Expression Examples\n",
    "#### Here are a few examples of arithmetic expressions in Python:"
   ]
  },
  {
   "cell_type": "code",
   "execution_count": 14,
   "id": "fdc1f59a",
   "metadata": {},
   "outputs": [
    {
     "name": "stdout",
     "output_type": "stream",
     "text": [
      "4\n",
      "2\n",
      "18\n",
      "3.0\n"
     ]
    }
   ],
   "source": [
    "3ccaddition \n",
    "print(2+2)\n",
    "\n",
    "#subtraction \n",
    "print(4-2)\n",
    "\n",
    "#multiplication \n",
    "print(3*6)\n",
    "\n",
    "#division\n",
    "print(9/3)"
   ]
  },
  {
   "cell_type": "code",
   "execution_count": 16,
   "id": "d798e0a6",
   "metadata": {},
   "outputs": [
    {
     "name": "stdout",
     "output_type": "stream",
     "text": [
      "17\n"
     ]
    }
   ],
   "source": [
    "# this a simple arithmetic expression to mutiply then add integers.\n",
    "print((3*4)+5)"
   ]
  },
  {
   "cell_type": "code",
   "execution_count": 18,
   "id": "f409439d",
   "metadata": {},
   "outputs": [
    {
     "name": "stdout",
     "output_type": "stream",
     "text": [
      "3.3333333333333335\n"
     ]
    }
   ],
   "source": [
    "# This will convert 200 minutes to hours by diving by 60\n",
    "print(200/60)"
   ]
  },
  {
   "cell_type": "markdown",
   "id": "7c99a8d8",
   "metadata": {},
   "source": [
    "## Author\n",
    "Shuyu Zhao "
   ]
  },
  {
   "cell_type": "code",
   "execution_count": null,
   "id": "7312d27c",
   "metadata": {},
   "outputs": [],
   "source": []
  }
 ],
 "metadata": {
  "kernelspec": {
   "display_name": "Python 3 (ipykernel)",
   "language": "python",
   "name": "python3"
  },
  "language_info": {
   "codemirror_mode": {
    "name": "ipython",
    "version": 3
   },
   "file_extension": ".py",
   "mimetype": "text/x-python",
   "name": "python",
   "nbconvert_exporter": "python",
   "pygments_lexer": "ipython3",
   "version": "3.10.9"
  }
 },
 "nbformat": 4,
 "nbformat_minor": 5
}
